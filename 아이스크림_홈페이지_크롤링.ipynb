{
 "cells": [
  {
   "cell_type": "code",
   "execution_count": 1,
   "id": "1b91b8c9",
   "metadata": {},
   "outputs": [],
   "source": [
    "from selenium import webdriver\n",
    "import pandas as pd\n",
    "from selenium.common.exceptions import NoSuchElementException"
   ]
  },
  {
   "cell_type": "code",
   "execution_count": 2,
   "id": "5aeed13c",
   "metadata": {},
   "outputs": [],
   "source": [
    "driver = webdriver.Edge()"
   ]
  },
  {
   "cell_type": "code",
   "execution_count": 3,
   "id": "ff5b1136",
   "metadata": {},
   "outputs": [],
   "source": [
    "iscream_map_search_url = \"https://teacher.i-scream.co.kr/help/afterword/list.do?crsCode=&crsLCode=05&sso=ok\""
   ]
  },
  {
   "cell_type": "code",
   "execution_count": 4,
   "id": "31572f0e",
   "metadata": {},
   "outputs": [],
   "source": [
    "driver.get(iscream_map_search_url)"
   ]
  },
  {
   "cell_type": "code",
   "execution_count": null,
   "id": "3e40a9f8",
   "metadata": {},
   "outputs": [],
   "source": [
    "# 학습지도 파트 크롤링 "
   ]
  },
  {
   "cell_type": "code",
   "execution_count": 5,
   "id": "d062d5a3",
   "metadata": {
    "scrolled": true
   },
   "outputs": [],
   "source": [
    "ind = 1  # 현재 복사한 순서 # 인덱스\n",
    "no = 1  # 1~10페이지 중 위치한 곳\n",
    "page = 1  # 현재 페이지 번호\n",
    "list_ICT = []  # 결과물이 저장되는 리스트\n",
    "\n",
    "while 1:  # 무한반복\n",
    "    try:\n",
    "        # 후기 순차적으로 클릭\n",
    "        driver.find_element(by='xpath', value=f'//*[@id=\"content\"]/div[3]/table/tbody/tr[{ind}]/td[3]/a').click()\n",
    "\n",
    "        # 등록일\n",
    "        date = driver.find_element(by='xpath', value=f'//*[@id=\"bbs_wrap\"]/div/dl[4]/dd[2]').text\n",
    "        date_year = date.split('.')[0] # 연도만 추출 \n",
    "        \n",
    "        if date_year == '2021':\n",
    "            break\n",
    "\n",
    "        # 연수명\n",
    "        title = driver.find_element(by='xpath', value=f'//*[@id=\"bbs_wrap\"]/div/dl[2]/dd/a').text\n",
    "\n",
    "        # 내용\n",
    "        content = driver.find_element(by='xpath', value=f'//*[@id=\"bbs_wrap\"]/div/div[1]').text\n",
    "\n",
    "        # 만족도 요소 가져오기\n",
    "        score_element = driver.find_element(by='xpath', value=f'//*[@id=\"bbs_wrap\"]/div/dl[3]/dd[1]/span/span')\n",
    "\n",
    "        # 만족도 클래스 속성 추출\n",
    "        score_class = score_element.get_attribute('class')\n",
    "        score = score_class.split(' ')[-1].split('-')[-1]\n",
    "\n",
    "        list_ICT.append([title, content, score, date])\n",
    "\n",
    "        driver.back()  # 뒤로가기\n",
    "\n",
    "        ind += 1\n",
    "\n",
    "        # 페이지 넘어가기\n",
    "        if ind > 10:  # 한 페이지의 후기가 10개라고 가정\n",
    "            ind = 1\n",
    "            no += 1\n",
    "            # 다음 페이지로 이동\n",
    "            driver.find_element(by='xpath', value=f'//*[@id=\"paging\"]/ul/li[{no+1}]/a').click()\n",
    "            \n",
    "            if no > 10:\n",
    "                no = 1\n",
    "\n",
    "    except Exception as e:\n",
    "        # 기타 예외 발생 시 에러 메시지 출력\n",
    "        print(f\"예외 발생: {e}\")\n",
    "        break\n"
   ]
  },
  {
   "cell_type": "code",
   "execution_count": 6,
   "id": "4ddc6c4e",
   "metadata": {},
   "outputs": [],
   "source": [
    "list_ICT = pd.DataFrame(list_ICT)"
   ]
  },
  {
   "cell_type": "code",
   "execution_count": 7,
   "id": "aff8c3bd",
   "metadata": {},
   "outputs": [
    {
     "data": {
      "text/html": [
       "<div>\n",
       "<style scoped>\n",
       "    .dataframe tbody tr th:only-of-type {\n",
       "        vertical-align: middle;\n",
       "    }\n",
       "\n",
       "    .dataframe tbody tr th {\n",
       "        vertical-align: top;\n",
       "    }\n",
       "\n",
       "    .dataframe thead th {\n",
       "        text-align: right;\n",
       "    }\n",
       "</style>\n",
       "<table border=\"1\" class=\"dataframe\">\n",
       "  <thead>\n",
       "    <tr style=\"text-align: right;\">\n",
       "      <th></th>\n",
       "      <th>0</th>\n",
       "      <th>1</th>\n",
       "      <th>2</th>\n",
       "      <th>3</th>\n",
       "    </tr>\n",
       "  </thead>\n",
       "  <tbody>\n",
       "    <tr>\n",
       "      <th>0</th>\n",
       "      <td>교사를 위한 구글 활용법(입문자편)</td>\n",
       "      <td>구글의 다양한 활용방법을 쉽고 열정적으로 알려주신 강사님들 모습에 동기부여 받아, ...</td>\n",
       "      <td>rate5</td>\n",
       "      <td>2023.07.31</td>\n",
       "    </tr>\n",
       "    <tr>\n",
       "      <th>1</th>\n",
       "      <td>Z세대의 소통법, 유튜브 활용 교육</td>\n",
       "      <td>유튜브의 전반적인 이해를 할 수 있어 수업 활용에 도움이 되었다.</td>\n",
       "      <td>rate5</td>\n",
       "      <td>2023.07.30</td>\n",
       "    </tr>\n",
       "    <tr>\n",
       "      <th>2</th>\n",
       "      <td>교사를 위한 구글 활용법(입문자편)</td>\n",
       "      <td>구글의 다양한 기본 활용 방법을 익혀 수업에 활용하는데 도움이 될 거 같다.</td>\n",
       "      <td>rate5</td>\n",
       "      <td>2023.07.30</td>\n",
       "    </tr>\n",
       "    <tr>\n",
       "      <th>3</th>\n",
       "      <td>교사를 위한 구글 활용법(입문자편)</td>\n",
       "      <td>요즘 구글로 자료를 수집하고 구글을 통해 아이들과 수업도 하는데 처음에는 익숙하지 ...</td>\n",
       "      <td>rate5</td>\n",
       "      <td>2023.07.28</td>\n",
       "    </tr>\n",
       "    <tr>\n",
       "      <th>4</th>\n",
       "      <td>가장 쉬운 수업도구, 패들렛과 띵커벨</td>\n",
       "      <td>패들렛과 띵커벨 활용하고 있었으나 다양한 교과에 특히 독서 지도에 많이 활용 할 수...</td>\n",
       "      <td>rate5</td>\n",
       "      <td>2023.07.28</td>\n",
       "    </tr>\n",
       "    <tr>\n",
       "      <th>...</th>\n",
       "      <td>...</td>\n",
       "      <td>...</td>\n",
       "      <td>...</td>\n",
       "      <td>...</td>\n",
       "    </tr>\n",
       "    <tr>\n",
       "      <th>1087</th>\n",
       "      <td>Z세대의 소통법, 유튜브 활용 교육</td>\n",
       "      <td>좋은 강의내용입니다</td>\n",
       "      <td>rate5</td>\n",
       "      <td>2022.01.03</td>\n",
       "    </tr>\n",
       "    <tr>\n",
       "      <th>1088</th>\n",
       "      <td>PPT의 신-학교에서 쓰는 쉬운 PPT</td>\n",
       "      <td>좋은 강의내용입니다</td>\n",
       "      <td>rate5</td>\n",
       "      <td>2022.01.03</td>\n",
       "    </tr>\n",
       "    <tr>\n",
       "      <th>1089</th>\n",
       "      <td>PPT의 신-학교에서 쓰는 쉬운 PPT</td>\n",
       "      <td>코로나19 감염증 확산으로 인해 온·오프라인 수업이 수시로 변하는 상황에 신속하고 ...</td>\n",
       "      <td>rate5</td>\n",
       "      <td>2022.01.03</td>\n",
       "    </tr>\n",
       "    <tr>\n",
       "      <th>1090</th>\n",
       "      <td>가장 쉬운 수업도구, 패들렛과 띵커벨</td>\n",
       "      <td>전담교사도 하고, 저학년도 하고 하다보니 패들렛이라는 것이 있는지도 몰랐습니다.\\n...</td>\n",
       "      <td>rate5</td>\n",
       "      <td>2022.01.02</td>\n",
       "    </tr>\n",
       "    <tr>\n",
       "      <th>1091</th>\n",
       "      <td>인공지능 교육, 기술보다 방향입니다.</td>\n",
       "      <td>인공지능 기술보다 방향입니다. 라는 제목에 매우 동감합니다.\\n\\n인공지능과 관련된...</td>\n",
       "      <td>rate5</td>\n",
       "      <td>2022.01.02</td>\n",
       "    </tr>\n",
       "  </tbody>\n",
       "</table>\n",
       "<p>1092 rows × 4 columns</p>\n",
       "</div>"
      ],
      "text/plain": [
       "                          0  \\\n",
       "0       교사를 위한 구글 활용법(입문자편)   \n",
       "1       Z세대의 소통법, 유튜브 활용 교육   \n",
       "2       교사를 위한 구글 활용법(입문자편)   \n",
       "3       교사를 위한 구글 활용법(입문자편)   \n",
       "4      가장 쉬운 수업도구, 패들렛과 띵커벨   \n",
       "...                     ...   \n",
       "1087    Z세대의 소통법, 유튜브 활용 교육   \n",
       "1088  PPT의 신-학교에서 쓰는 쉬운 PPT   \n",
       "1089  PPT의 신-학교에서 쓰는 쉬운 PPT   \n",
       "1090   가장 쉬운 수업도구, 패들렛과 띵커벨   \n",
       "1091   인공지능 교육, 기술보다 방향입니다.   \n",
       "\n",
       "                                                      1      2           3  \n",
       "0     구글의 다양한 활용방법을 쉽고 열정적으로 알려주신 강사님들 모습에 동기부여 받아, ...  rate5  2023.07.31  \n",
       "1                  유튜브의 전반적인 이해를 할 수 있어 수업 활용에 도움이 되었다.  rate5  2023.07.30  \n",
       "2            구글의 다양한 기본 활용 방법을 익혀 수업에 활용하는데 도움이 될 거 같다.  rate5  2023.07.30  \n",
       "3     요즘 구글로 자료를 수집하고 구글을 통해 아이들과 수업도 하는데 처음에는 익숙하지 ...  rate5  2023.07.28  \n",
       "4     패들렛과 띵커벨 활용하고 있었으나 다양한 교과에 특히 독서 지도에 많이 활용 할 수...  rate5  2023.07.28  \n",
       "...                                                 ...    ...         ...  \n",
       "1087                                         좋은 강의내용입니다  rate5  2022.01.03  \n",
       "1088                                         좋은 강의내용입니다  rate5  2022.01.03  \n",
       "1089  코로나19 감염증 확산으로 인해 온·오프라인 수업이 수시로 변하는 상황에 신속하고 ...  rate5  2022.01.03  \n",
       "1090  전담교사도 하고, 저학년도 하고 하다보니 패들렛이라는 것이 있는지도 몰랐습니다.\\n...  rate5  2022.01.02  \n",
       "1091  인공지능 기술보다 방향입니다. 라는 제목에 매우 동감합니다.\\n\\n인공지능과 관련된...  rate5  2022.01.02  \n",
       "\n",
       "[1092 rows x 4 columns]"
      ]
     },
     "execution_count": 7,
     "metadata": {},
     "output_type": "execute_result"
    }
   ],
   "source": [
    "list_ICT"
   ]
  },
  {
   "cell_type": "code",
   "execution_count": 8,
   "id": "c442be41",
   "metadata": {},
   "outputs": [],
   "source": [
    "list_ICT.columns = ['연수명', '내용', '별점', '등록일']"
   ]
  },
  {
   "cell_type": "code",
   "execution_count": 9,
   "id": "d056f965",
   "metadata": {},
   "outputs": [],
   "source": [
    "list_ICT.to_csv('ict_data_2023_2022.csv')"
   ]
  },
  {
   "cell_type": "code",
   "execution_count": null,
   "id": "84a728e8",
   "metadata": {},
   "outputs": [],
   "source": []
  }
 ],
 "metadata": {
  "kernelspec": {
   "display_name": "Python 3 (ipykernel)",
   "language": "python",
   "name": "python3"
  },
  "language_info": {
   "codemirror_mode": {
    "name": "ipython",
    "version": 3
   },
   "file_extension": ".py",
   "mimetype": "text/x-python",
   "name": "python",
   "nbconvert_exporter": "python",
   "pygments_lexer": "ipython3",
   "version": "3.10.9"
  }
 },
 "nbformat": 4,
 "nbformat_minor": 5
}
