{
 "cells": [
  {
   "cell_type": "code",
   "execution_count": 1,
   "id": "2158420e",
   "metadata": {},
   "outputs": [],
   "source": [
    "from dash import Dash, html, dcc, Input, Output, callback, dash_table\n",
    "import pandas as pd\n",
    "import plotly.express as px\n",
    "import plotly.graph_objects as go\n",
    "\n",
    "import matplotlib.pyplot as plt\n",
    "import matplotlib as mpl\n",
    "mpl.rcParams['axes.unicode_minus'] = False\n",
    "import seaborn as sns\n",
    "from scipy import stats\n",
    "plt.rc('font', family='Malgun Gothic')"
   ]
  },
  {
   "cell_type": "code",
   "execution_count": 2,
   "id": "ea754102",
   "metadata": {},
   "outputs": [],
   "source": [
    "# 티셀파 이미지 링크\n",
    "\n",
    "t_pie = \"https://github.com/hannah-OH/Python/blob/master/project/team%20project2-data%20mining/img/%ED%8B%B0%EC%85%80%ED%8C%8C_%ED%8C%8C%EC%9D%B4%EC%B0%A8%ED%8A%B8.png?raw=true\"\n",
    "t_p_bar = \"https://github.com/hannah-OH/Python/blob/master/project/team%20project2-data%20mining/img/%ED%8B%B0%EC%85%80%ED%8C%8C_%EA%B8%8D%EC%A0%95_%EA%B7%B8%EB%9E%98%ED%94%84.png?raw=true\"\n",
    "t_n_bar = \"https://github.com/hannah-OH/Python/blob/master/project/team%20project2-data%20mining/img/%ED%8B%B0%EC%85%80%ED%8C%8C_%EB%B6%80%EC%A0%95_%EA%B7%B8%EB%9E%98%ED%94%84.png?raw=true\"\n",
    "t_p_word = \"https://github.com/hannah-OH/Python/blob/master/project/team%20project2-data%20mining/img/%ED%8B%B0%EC%85%80%ED%8C%8C_%EA%B8%8D%EC%A0%95%20%EC%9B%8C%EB%93%9C+%ED%91%9C.png?raw=true\"\n",
    "t_n_word = \"https://github.com/hannah-OH/Python/blob/master/project/team%20project2-data%20mining/img/%ED%8B%B0%EC%85%80%ED%8C%8C_%EB%B6%80%EC%A0%95_%EC%9B%8C%EB%93%9C+%ED%91%9C.png?raw=true\""
   ]
  },
  {
   "cell_type": "code",
   "execution_count": 22,
   "id": "2d49652c",
   "metadata": {},
   "outputs": [],
   "source": [
    "# 아이스크림 이미지 링크\n",
    "\n",
    "i_pie = \"https://github.com/hannah-OH/Python/blob/master/project/team%20project2-data%20mining/img/%EC%95%84%EC%9D%B4%EC%8A%A4%ED%81%AC%EB%A6%BC_%ED%8C%8C%EC%9D%B4%EC%B0%A8%ED%8A%B8.png?raw=true\"\n",
    "i_p_bar = \"https://github.com/hannah-OH/Python/blob/master/project/team%20project2-data%20mining/img/%EC%95%84%EC%9D%B4%EC%8A%A4%ED%81%AC%EB%A6%BC_%EB%B6%80%EC%A0%95_%EA%B7%B8%EB%9E%98%ED%94%842.png?raw=true\"\n",
    "i_n_bar = \"https://github.com/hannah-OH/Python/blob/master/project/team%20project2-data%20mining/img/%EC%95%84%EC%9D%B4%EC%8A%A4%ED%81%AC%EB%A6%BC_%EA%B8%8D%EC%A0%95_%EA%B7%B8%EB%9E%98%ED%94%842.png?raw=true\"\n",
    "i_p_word = \"https://github.com/hannah-OH/Python/blob/master/project/team%20project2-data%20mining/img/%EC%95%84%EC%9D%B4%EC%8A%A4%ED%81%AC%EB%A6%BC_%EA%B8%8D%EC%A0%95_%EC%9B%8C%EB%93%9C+%ED%91%9C.png?raw=true\"\n",
    "i_n_word = \"https://github.com/hannah-OH/Python/blob/master/project/team%20project2-data%20mining/img/%EC%95%84%EC%9D%B4%EC%8A%A4%ED%81%AC%EB%A6%BC_%EB%B6%80%EC%A0%95_%EC%9B%8C%EB%93%9C+%ED%91%9C.png?raw=true\""
   ]
  },
  {
   "cell_type": "code",
   "execution_count": 32,
   "id": "3079d618",
   "metadata": {},
   "outputs": [
    {
     "data": {
      "text/html": [
       "\n",
       "        <iframe\n",
       "            width=\"100%\"\n",
       "            height=\"650\"\n",
       "            src=\"http://127.0.0.1:8050/\"\n",
       "            frameborder=\"0\"\n",
       "            allowfullscreen\n",
       "            \n",
       "        ></iframe>\n",
       "        "
      ],
      "text/plain": [
       "<IPython.lib.display.IFrame at 0x2907ad10ca0>"
      ]
     },
     "metadata": {},
     "output_type": "display_data"
    }
   ],
   "source": [
    "# 대시보드 틀 \n",
    "\n",
    "app = Dash(__name__)\n",
    "\n",
    "\n",
    "app.layout = html.Div([\n",
    "\n",
    "    html.Div(className='row', children='티셀파와 아이스크림 연수원 연수후기 긍정/부정 분석', \n",
    "             style={'textAlign': 'center', 'color': 'black', 'fontSize': 30}),\n",
    "    \n",
    "    # 파이차트\n",
    "    html.Div([\n",
    "        html.Div([\n",
    "            html.Img(src=t_pie, style={'width': '30%', 'float': 'left', 'display': 'inline-block'})\n",
    "        ]),\n",
    "        html.Div([\n",
    "            html.Img(src=i_pie, style={'width': '30%', 'float': 'right', 'display': 'inline-block'})\n",
    "        ])\n",
    "    ]),\n",
    "    \n",
    "    # 긍정적인 단어 top20\n",
    "    html.Div([\n",
    "        html.Div([\n",
    "            html.Img(src=t_p_bar, style={'width': '49%', 'float': 'left', 'display': 'inline-block'})\n",
    "        ]),\n",
    "        html.Div([\n",
    "            html.Img(src=i_p_bar, style={'width': '49%', 'float': 'right', 'display': 'inline-block'})\n",
    "        ])\n",
    "    ]),   \n",
    "    \n",
    "    # 부정적인 단어 top20\n",
    "    html.Div([\n",
    "        html.Div([\n",
    "            html.Img(src=t_n_bar, style={'width': '49%', 'float': 'left', 'display': 'inline-block'})\n",
    "        ]),\n",
    "        html.Div([\n",
    "            html.Img(src=i_n_bar, style={'width': '49%', 'float': 'right', 'display': 'inline-block'})\n",
    "        ])\n",
    "    ]),   \n",
    "    \n",
    "    # 긍정적인 단어 워드클라우드\n",
    "    html.Div([\n",
    "        html.Div([\n",
    "            html.Img(src=t_p_word, style={'width': '49%', 'float': 'left', 'display': 'inline-block'})\n",
    "        ]),\n",
    "        html.Div([\n",
    "            html.Img(src=i_p_word, style={'width': '49%', 'float': 'right', 'display': 'inline-block'})\n",
    "        ])\n",
    "    ]),\n",
    "    \n",
    "    # 부정적인 단어 워드클라우드\n",
    "    html.Div([\n",
    "        html.Div([\n",
    "            html.Img(src=t_n_word, style={'width': '49%', 'float': 'left', 'display': 'inline-block'})\n",
    "        ]),\n",
    "        html.Div([\n",
    "            html.Img(src=i_n_word, style={'width': '49%', 'float': 'right', 'display': 'inline-block'})\n",
    "        ])\n",
    "    ])\n",
    "    \n",
    "])\n",
    "\n",
    "if __name__ == '__main__':\n",
    "    app.run(debug=True)"
   ]
  },
  {
   "cell_type": "code",
   "execution_count": null,
   "id": "ec3337ae",
   "metadata": {},
   "outputs": [],
   "source": []
  }
 ],
 "metadata": {
  "kernelspec": {
   "display_name": "Python 3 (ipykernel)",
   "language": "python",
   "name": "python3"
  },
  "language_info": {
   "codemirror_mode": {
    "name": "ipython",
    "version": 3
   },
   "file_extension": ".py",
   "mimetype": "text/x-python",
   "name": "python",
   "nbconvert_exporter": "python",
   "pygments_lexer": "ipython3",
   "version": "3.10.9"
  }
 },
 "nbformat": 4,
 "nbformat_minor": 5
}
